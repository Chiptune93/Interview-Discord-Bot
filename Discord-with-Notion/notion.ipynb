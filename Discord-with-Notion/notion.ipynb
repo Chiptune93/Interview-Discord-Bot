{
 "cells": [
  {
   "cell_type": "markdown",
   "metadata": {},
   "source": [
    "# outline"
   ]
  },
  {
   "cell_type": "markdown",
   "metadata": {},
   "source": [
    "\n",
    "1. Connect Notion DB\n",
    "    - Create a Notion Intergration key\n",
    "    - Save key in .env file\n",
    "    - Allowed the Notion Intergration key  to access to page we want to share\n",
    "    - Get Notion Data With POST Http Request\n",
    "2. Parse Notion Data\n",
    "3. Connect Discord\n",
    "4. Put Notion Data to Discord\n",
    "5. Other Task ..."
   ]
  },
  {
   "cell_type": "code",
   "execution_count": 81,
   "metadata": {},
   "outputs": [],
   "source": [
    "import requests\n",
    "import secretkeys"
   ]
  },
  {
   "cell_type": "code",
   "execution_count": 82,
   "metadata": {},
   "outputs": [],
   "source": [
    "base_url = \"https://api.notion.com/v1/databases/\"\n",
    "database_id = \"44564026-89cf-4d82-9c11-0858a22f2365\""
   ]
  },
  {
   "cell_type": "code",
   "execution_count": 83,
   "metadata": {},
   "outputs": [],
   "source": [
    "#curl 'https://api.notion.com/v1/databases/668d797c-76fa-4934-9b05-ad288df2d136' \\\n",
    "#  -H 'Authorization: Bearer '\"$NOTION_API_KEY\"'' \\\n",
    "#  -H 'Notion-Version: 2022-06-28'"
   ]
  },
  {
   "cell_type": "code",
   "execution_count": 84,
   "metadata": {},
   "outputs": [],
   "source": [
    "header = {\"Authorization\":secretkeys.KEY, \"Notion-Version\":\"2022-06-28\"}\n",
    "query = {\"filter\": {\"and\":[{\"property\": \"category\",\"select\": {\"equals\":\"normal-tech\"}}]}}"
   ]
  },
  {
   "cell_type": "code",
   "execution_count": 85,
   "metadata": {},
   "outputs": [
    {
     "data": {
      "text/plain": [
       "<Response [200]>"
      ]
     },
     "execution_count": 85,
     "metadata": {},
     "output_type": "execute_result"
    }
   ],
   "source": [
    "response = requests.post(base_url + database_id + \"/query\", headers=header, data=query) \n",
    "response"
   ]
  },
  {
   "cell_type": "markdown",
   "metadata": {},
   "source": [
    "# Information Parsing\n",
    "\n",
    "- category\n",
    "- question\n",
    "- answer\n",
    "- ref"
   ]
  },
  {
   "cell_type": "code",
   "execution_count": 86,
   "metadata": {},
   "outputs": [],
   "source": [
    "def data_parsing(x):\n",
    "    return [i for i in x]"
   ]
  },
  {
   "cell_type": "code",
   "execution_count": 87,
   "metadata": {},
   "outputs": [
    {
     "name": "stdout",
     "output_type": "stream",
     "text": [
      "84\n"
     ]
    },
    {
     "data": {
      "text/plain": [
       "'유연한 코드는 무엇인가요?'"
      ]
     },
     "execution_count": 87,
     "metadata": {},
     "output_type": "execute_result"
    }
   ],
   "source": [
    "#data_parsing(response.json()[\"results\"][0][\"properties\"][\"question\"][\"title\"][0][\"plain_text\"])\n",
    "print(len(response.json()[\"results\"])) # data length\n",
    "\n",
    "question = response.json()[\"results\"][0][\"properties\"][\"question\"][\"title\"][0][\"plain_text\"]\n",
    "question"
   ]
  },
  {
   "cell_type": "code",
   "execution_count": 88,
   "metadata": {},
   "outputs": [
    {
     "data": {
      "text/plain": [
       "'높은 응집도와 낮은 결합도를 갖는 코드를 말합니다.'"
      ]
     },
     "execution_count": 88,
     "metadata": {},
     "output_type": "execute_result"
    }
   ],
   "source": [
    "answer = response.json()[\"results\"][0][\"properties\"][\"answer\"][\"rich_text\"][0][\"plain_text\"]\n",
    "answer"
   ]
  },
  {
   "cell_type": "code",
   "execution_count": 89,
   "metadata": {},
   "outputs": [
    {
     "data": {
      "text/plain": [
       "'유연한 코드는 무엇인가요?\\n높은 응집도와 낮은 결합도를 갖는 코드를 말합니다.'"
      ]
     },
     "execution_count": 89,
     "metadata": {},
     "output_type": "execute_result"
    }
   ],
   "source": [
    "out_to_discord = question + \"\\n\" + answer\n",
    "out_to_discord"
   ]
  },
  {
   "cell_type": "code",
   "execution_count": 90,
   "metadata": {},
   "outputs": [],
   "source": [
    "hookData = {\n",
    "    \"content\" : out_to_discord,\n",
    "    \"username\" : \"WebHookBot\"\n",
    "}"
   ]
  },
  {
   "cell_type": "code",
   "execution_count": 91,
   "metadata": {},
   "outputs": [
    {
     "data": {
      "text/plain": [
       "<Response [204]>"
      ]
     },
     "execution_count": 91,
     "metadata": {},
     "output_type": "execute_result"
    }
   ],
   "source": [
    "# Web Hook 으로 메세지 보내기.\n",
    "requests.post(secretkeys.WEB_HOOK_URL, data= hookData)\n"
   ]
  }
 ],
 "metadata": {
  "kernelspec": {
   "display_name": "Python 3.10.7 64-bit",
   "language": "python",
   "name": "python3"
  },
  "language_info": {
   "codemirror_mode": {
    "name": "ipython",
    "version": 3
   },
   "file_extension": ".py",
   "mimetype": "text/x-python",
   "name": "python",
   "nbconvert_exporter": "python",
   "pygments_lexer": "ipython3",
   "version": "3.10.7"
  },
  "orig_nbformat": 4,
  "vscode": {
   "interpreter": {
    "hash": "aee8b7b246df8f9039afb4144a1f6fd8d2ca17a180786b69acc140d282b71a49"
   }
  }
 },
 "nbformat": 4,
 "nbformat_minor": 2
}
